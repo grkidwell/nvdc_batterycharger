{
 "cells": [
  {
   "cell_type": "code",
   "execution_count": 1,
   "metadata": {},
   "outputs": [],
   "source": [
    "import batterycharger as bc\n",
    "import numpy as np\n",
    "import pandas as pd\n",
    "import matplotlib.pyplot as plt\n",
    "import seaborn as sns\n",
    "\n",
    "plt.style.use('seaborn')\n",
    "\n",
    "#save again\n",
    "\n",
    "import ipywidgets as widgets\n",
    "from ipywidgets import interact, interact_manual, interactive,FloatText\n",
    "from IPython.display import display"
   ]
  },
  {
   "cell_type": "code",
   "execution_count": 2,
   "metadata": {},
   "outputs": [],
   "source": [
    "#ichargermax=(6, 9, 0.5)\n",
    "#padaptor=[45,60,90]\n",
    "#psystem=(0,60,10)\n",
    "soc=0.01"
   ]
  },
  {
   "cell_type": "code",
   "execution_count": 3,
   "metadata": {},
   "outputs": [],
   "source": [
    "#data3=bc.batterystate_vs_t(bc.Charger(bc.Adapter(padaptor,20),bc.Battery(2,50,soc=soc),psystem=psystem, imax=ichargermax))\n",
    "#df=pd.DataFrame(np.array(data3[1:]).T,index=data3[0],columns=['soc','pout','vbat','vsys','iout','icharge'])\n",
    "#df.index.name='time(hr)'\n",
    "\n"
   ]
  },
  {
   "cell_type": "markdown",
   "metadata": {},
   "source": [
    "# Using Widgets"
   ]
  },
  {
   "cell_type": "code",
   "execution_count": 4,
   "metadata": {},
   "outputs": [
    {
     "data": {
      "application/vnd.jupyter.widget-view+json": {
       "model_id": "9477a34468d84e2eb7244a812a4e09ba",
       "version_major": 2,
       "version_minor": 0
      },
      "text/plain": [
       "VBox(children=(Dropdown(description='Padaptor(W)', options=(45, 60, 90), value=45), IntSlider(value=0, descrip…"
      ]
     },
     "metadata": {},
     "output_type": "display_data"
    }
   ],
   "source": [
    "padaptor = widgets.Dropdown(options=[45, 60, 90],description = \"Padaptor(W)\")\n",
    "psystem = widgets.IntSlider(min=0,max=50,step=10, description = \"Psystem(W)\")\n",
    "ichargermax = widgets.FloatSlider(min=6,max=9,step=0.5, description = \"Ichargermax\")\n",
    "#widgets.VBox([padap,psys,ichgmx])\n",
    "def padaptor_var3(padaptor,psystem,ichargermax):\n",
    "    data=bc.batterystate_vs_t(bc.Charger(bc.Adapter(power=padaptor),bc.Battery(soc=soc),psystem=psystem, imax=ichargermax))\n",
    "    chargetime = str(data[0][-1])\n",
    "    #print(f\"Chargetime: {chargetime} hrs\")\n",
    "    df=pd.DataFrame(np.array(data[1:]).T,index=data[0],columns=['soc','pout','vbat','vsys','iout','icharge'])\n",
    "    df.index.name='time(hr)'\n",
    "    print(chargetime)\n",
    "    #widgets.Text(\"duh\")#value=\"Chargetime: \"+str(data[0][-1])+\" hrs\")\n",
    "    #df.plot(subplots=True, layout=(3,2),figsize=(10,10),sharex=False,use_index=True)\n",
    "\n",
    "out = widgets.interactive_output(padaptor_var3, {'padaptor':padaptor, 'psystem': psystem, 'ichargermax': ichargermax})\n",
    "#out_chargetime = out[0]\n",
    "#out_plot = out[1].plot(subplots=True, layout=(3,2),figsize=(10,10),sharex=False,use_index=True)\n",
    "#out_plot = widgets.interactive_output(padaptor_var3,)\n",
    "\n",
    "widgets.VBox([padaptor,psystem,ichargermax,out])\n"
   ]
  },
  {
   "cell_type": "code",
   "execution_count": 5,
   "metadata": {},
   "outputs": [
    {
     "data": {
      "application/vnd.jupyter.widget-view+json": {
       "model_id": "661808c87052438eba31251b56081ec8",
       "version_major": 2,
       "version_minor": 0
      },
      "text/plain": [
       "Text(value='duh')"
      ]
     },
     "metadata": {},
     "output_type": "display_data"
    }
   ],
   "source": [
    "widgets.Text(\"duh\")"
   ]
  },
  {
   "cell_type": "code",
   "execution_count": 6,
   "metadata": {},
   "outputs": [
    {
     "ename": "NameError",
     "evalue": "name 'padap' is not defined",
     "output_type": "error",
     "traceback": [
      "\u001b[1;31m---------------------------------------------------------------------------\u001b[0m",
      "\u001b[1;31mNameError\u001b[0m                                 Traceback (most recent call last)",
      "\u001b[1;32m<ipython-input-6-7e4a900671c6>\u001b[0m in \u001b[0;36m<module>\u001b[1;34m\u001b[0m\n\u001b[1;32m----> 1\u001b[1;33m \u001b[0mdata\u001b[0m\u001b[1;33m=\u001b[0m\u001b[0mbc\u001b[0m\u001b[1;33m.\u001b[0m\u001b[0mbatterystate_vs_t\u001b[0m\u001b[1;33m(\u001b[0m\u001b[0mbc\u001b[0m\u001b[1;33m.\u001b[0m\u001b[0mCharger\u001b[0m\u001b[1;33m(\u001b[0m\u001b[0mbc\u001b[0m\u001b[1;33m.\u001b[0m\u001b[0mAdapter\u001b[0m\u001b[1;33m(\u001b[0m\u001b[0mpower\u001b[0m\u001b[1;33m=\u001b[0m\u001b[0mpadap\u001b[0m\u001b[1;33m.\u001b[0m\u001b[0mvalue\u001b[0m\u001b[1;33m)\u001b[0m\u001b[1;33m,\u001b[0m\u001b[0mbc\u001b[0m\u001b[1;33m.\u001b[0m\u001b[0mBattery\u001b[0m\u001b[1;33m(\u001b[0m\u001b[0msoc\u001b[0m\u001b[1;33m=\u001b[0m\u001b[0msoc\u001b[0m\u001b[1;33m)\u001b[0m\u001b[1;33m,\u001b[0m\u001b[0mpsystem\u001b[0m\u001b[1;33m=\u001b[0m\u001b[0mpsys\u001b[0m\u001b[1;33m.\u001b[0m\u001b[0mvalue\u001b[0m\u001b[1;33m,\u001b[0m \u001b[0mimax\u001b[0m\u001b[1;33m=\u001b[0m\u001b[0michgmx\u001b[0m\u001b[1;33m.\u001b[0m\u001b[0mvalue\u001b[0m\u001b[1;33m)\u001b[0m\u001b[1;33m)\u001b[0m\u001b[1;33m\u001b[0m\u001b[1;33m\u001b[0m\u001b[0m\n\u001b[0m\u001b[0;32m      2\u001b[0m \u001b[1;31m#padap.value\u001b[0m\u001b[1;33m\u001b[0m\u001b[1;33m\u001b[0m\u001b[1;33m\u001b[0m\u001b[0m\n\u001b[0;32m      3\u001b[0m \u001b[0mdata\u001b[0m\u001b[1;33m[\u001b[0m\u001b[1;36m0\u001b[0m\u001b[1;33m]\u001b[0m\u001b[1;33m[\u001b[0m\u001b[1;33m-\u001b[0m\u001b[1;36m1\u001b[0m\u001b[1;33m]\u001b[0m\u001b[1;33m\u001b[0m\u001b[1;33m\u001b[0m\u001b[0m\n",
      "\u001b[1;31mNameError\u001b[0m: name 'padap' is not defined"
     ]
    }
   ],
   "source": [
    "data=bc.batterystate_vs_t(bc.Charger(bc.Adapter(power=padap.value),bc.Battery(soc=soc),psystem=psys.value, imax=ichgmx.value))\n",
    "#padap.value\n",
    "data[0][-1]"
   ]
  },
  {
   "cell_type": "code",
   "execution_count": 7,
   "metadata": {},
   "outputs": [
    {
     "ename": "NameError",
     "evalue": "name 'padap' is not defined",
     "output_type": "error",
     "traceback": [
      "\u001b[1;31m---------------------------------------------------------------------------\u001b[0m",
      "\u001b[1;31mNameError\u001b[0m                                 Traceback (most recent call last)",
      "\u001b[1;32m<ipython-input-7-922da0b2bba6>\u001b[0m in \u001b[0;36m<module>\u001b[1;34m\u001b[0m\n\u001b[1;32m----> 1\u001b[1;33m \u001b[0mdata\u001b[0m\u001b[1;33m=\u001b[0m\u001b[0mbc\u001b[0m\u001b[1;33m.\u001b[0m\u001b[0mbatterystate_vs_t\u001b[0m\u001b[1;33m(\u001b[0m\u001b[0mbc\u001b[0m\u001b[1;33m.\u001b[0m\u001b[0mCharger\u001b[0m\u001b[1;33m(\u001b[0m\u001b[0mbc\u001b[0m\u001b[1;33m.\u001b[0m\u001b[0mAdapter\u001b[0m\u001b[1;33m(\u001b[0m\u001b[0mpower\u001b[0m\u001b[1;33m=\u001b[0m\u001b[0mpadap\u001b[0m\u001b[1;33m)\u001b[0m\u001b[1;33m,\u001b[0m\u001b[0mbc\u001b[0m\u001b[1;33m.\u001b[0m\u001b[0mBattery\u001b[0m\u001b[1;33m(\u001b[0m\u001b[0msoc\u001b[0m\u001b[1;33m=\u001b[0m\u001b[0msoc\u001b[0m\u001b[1;33m)\u001b[0m\u001b[1;33m,\u001b[0m\u001b[0mpsystem\u001b[0m\u001b[1;33m=\u001b[0m\u001b[0mpsys\u001b[0m\u001b[1;33m,\u001b[0m \u001b[0mimax\u001b[0m\u001b[1;33m=\u001b[0m\u001b[0michgmx\u001b[0m\u001b[1;33m)\u001b[0m\u001b[1;33m)\u001b[0m\u001b[1;33m\u001b[0m\u001b[1;33m\u001b[0m\u001b[0m\n\u001b[0m\u001b[0;32m      2\u001b[0m \u001b[1;33m\u001b[0m\u001b[0m\n\u001b[0;32m      3\u001b[0m \u001b[1;32mdef\u001b[0m \u001b[0mpadaptor_var0\u001b[0m\u001b[1;33m(\u001b[0m\u001b[0mpadaptor\u001b[0m\u001b[1;33m,\u001b[0m\u001b[0mpsystem\u001b[0m\u001b[1;33m,\u001b[0m\u001b[0michargermax\u001b[0m\u001b[1;33m)\u001b[0m\u001b[1;33m:\u001b[0m\u001b[1;33m\u001b[0m\u001b[1;33m\u001b[0m\u001b[0m\n\u001b[0;32m      4\u001b[0m     \u001b[0mdata\u001b[0m\u001b[1;33m=\u001b[0m\u001b[0mbc\u001b[0m\u001b[1;33m.\u001b[0m\u001b[0mbatterystate_vs_t\u001b[0m\u001b[1;33m(\u001b[0m\u001b[0mbc\u001b[0m\u001b[1;33m.\u001b[0m\u001b[0mCharger\u001b[0m\u001b[1;33m(\u001b[0m\u001b[0mbc\u001b[0m\u001b[1;33m.\u001b[0m\u001b[0mAdapter\u001b[0m\u001b[1;33m(\u001b[0m\u001b[0mpower\u001b[0m\u001b[1;33m=\u001b[0m\u001b[0mpadaptor\u001b[0m\u001b[1;33m)\u001b[0m\u001b[1;33m,\u001b[0m\u001b[0mbc\u001b[0m\u001b[1;33m.\u001b[0m\u001b[0mBattery\u001b[0m\u001b[1;33m(\u001b[0m\u001b[0msoc\u001b[0m\u001b[1;33m=\u001b[0m\u001b[0msoc\u001b[0m\u001b[1;33m)\u001b[0m\u001b[1;33m,\u001b[0m\u001b[0mpsystem\u001b[0m\u001b[1;33m=\u001b[0m\u001b[0mpsystem\u001b[0m\u001b[1;33m,\u001b[0m \u001b[0mimax\u001b[0m\u001b[1;33m=\u001b[0m\u001b[0michargermax\u001b[0m\u001b[1;33m)\u001b[0m\u001b[1;33m)\u001b[0m\u001b[1;33m\u001b[0m\u001b[1;33m\u001b[0m\u001b[0m\n\u001b[0;32m      5\u001b[0m     \u001b[1;31m#chargetime = widgets.Text(str(data[0][-1])+\"hrs\")\u001b[0m\u001b[1;33m\u001b[0m\u001b[1;33m\u001b[0m\u001b[1;33m\u001b[0m\u001b[0m\n",
      "\u001b[1;31mNameError\u001b[0m: name 'padap' is not defined"
     ]
    }
   ],
   "source": [
    "data=bc.batterystate_vs_t(bc.Charger(bc.Adapter(power=padap),bc.Battery(soc=soc),psystem=psys, imax=ichgmx))\n",
    "\n",
    "def padaptor_var0(padaptor,psystem,ichargermax):\n",
    "    data=bc.batterystate_vs_t(bc.Charger(bc.Adapter(power=padaptor),bc.Battery(soc=soc),psystem=psystem, imax=ichargermax))\n",
    "    #chargetime = widgets.Text(str(data[0][-1])+\"hrs\")\n",
    "    chargetime = str(data[0][-1])\n",
    "    df=pd.DataFrame(np.array(data[1:]).T,index=data[0],columns=['soc','pout','vbat','vsys','iout','icharge'])\n",
    "    df.index.name='time(hr)'\n",
    "    #return print(f\"Chargetime = {chargetime} hrs\"),df.plot(subplots=True, layout=(3,2),figsize=(10,10),sharex=False,use_index=True)\n",
    "    return widgets.Text(str(data[0][-1])+\" hrs\")"
   ]
  },
  {
   "cell_type": "markdown",
   "metadata": {},
   "source": [
    "## Interact not as a decorator"
   ]
  },
  {
   "cell_type": "code",
   "execution_count": 18,
   "metadata": {},
   "outputs": [
    {
     "data": {
      "application/vnd.jupyter.widget-view+json": {
       "model_id": "d6d4bcfcb95544158498d9b9a6481540",
       "version_major": 2,
       "version_minor": 0
      },
      "text/plain": [
       "interactive(children=(Dropdown(description='padaptor', options=(45, 60, 90), value=45), IntSlider(value=30, de…"
      ]
     },
     "metadata": {},
     "output_type": "display_data"
    }
   ],
   "source": [
    "def padaptor_var2(padaptor,psystem,ichargermax):\n",
    "    data=bc.batterystate_vs_t(bc.Charger(bc.Adapter(power=padaptor),bc.Battery(soc=soc),psystem=psystem, imax=ichargermax))\n",
    "    #chargetime = widgets.Text(str(data[0][-1])+\"hrs\")\n",
    "    chargetime = str(data[0][-1])+'hrs'\n",
    "    df=pd.DataFrame(np.array(data[1:]).T,index=data[0],columns=['soc.  Chargetime: '+chargetime,'pout','vbat','vsys','iout','icharge'])\n",
    "    df.index.name='time(hr)'\n",
    "    #print(chargetime)\n",
    "    df.plot(subplots=True, layout=(3,2),figsize=(10,10),sharex=False,use_index=True)\n",
    "    #return print(f\"Chargetime: {chargetime} hrs\")\n",
    "    #return print(f\"Chargetime: {chargetime} hrs\"), df.plot(subplots=True, layout=(3,2),figsize=(10,10),sharex=False,use_index=True)\n",
    "\n",
    "interact(padaptor_var2,padaptor=[45,60,90],psystem=(0,60,5),ichargermax=(6, 9, 0.5));"
   ]
  },
  {
   "cell_type": "markdown",
   "metadata": {},
   "source": [
    "## Using Interactive and display\n",
    "\n",
    "#### This approach provides a desired output except it erases and redraws the outputs when chargtime is displayed"
   ]
  },
  {
   "cell_type": "code",
   "execution_count": 14,
   "metadata": {},
   "outputs": [],
   "source": [
    "def padaptor_var2(padaptor,psystem,ichargermax):\n",
    "    data=bc.batterystate_vs_t(bc.Charger(bc.Adapter(power=padaptor),bc.Battery(soc=soc),psystem=psystem, imax=ichargermax))\n",
    "    chargetime = str(data[0][-1])+' hrs'\n",
    "    #chargetime = widgets.Text(\"Chargetime: \"+str(data[0][-1])+\" hrs\")\n",
    "    df=pd.DataFrame(np.array(data[1:]).T,index=data[0],columns=['soc - chargetime:'+chargetime,'pout','vbat','vsys','iout','icharge'])\n",
    "    df.index.name='time(hr)'\n",
    "    #display(df.plot(subplots=True, layout=(3,2),figsize=(10,10),sharex=False,use_index=True)); \n",
    "    display(chargetime)\n",
    "    #display()\n",
    "    #return chargetime #print(f\"Chargetime: {chargetime} hrs\")\n",
    "    #return print(f\"Chargetime: {chargetime} hrs\"), df.plot(subplots=True, layout=(3,2),figsize=(10,10),sharex=False,use_index=True)\n",
    "    return chargetime, df.plot(subplots=True, layout=(3,2),figsize=(10,10),sharex=False,use_index=True)\n",
    "\n",
    "w=interactive(padaptor_var2,padaptor=[45,60,90],psystem=(0,60,5),ichargermax=(6, 9, 0.5));\n",
    "w.children[1].continuous_update=False"
   ]
  },
  {
   "cell_type": "code",
   "execution_count": 15,
   "metadata": {},
   "outputs": [
    {
     "data": {
      "application/vnd.jupyter.widget-view+json": {
       "model_id": "76f29d51a19645e2b4e1c6f993607cb0",
       "version_major": 2,
       "version_minor": 0
      },
      "text/plain": [
       "interactive(children=(Dropdown(description='padaptor', options=(45, 60, 90), value=45), IntSlider(value=30, co…"
      ]
     },
     "metadata": {},
     "output_type": "display_data"
    }
   ],
   "source": [
    "display(w)"
   ]
  },
  {
   "cell_type": "markdown",
   "metadata": {},
   "source": [
    "# Basic Interactive"
   ]
  },
  {
   "cell_type": "markdown",
   "metadata": {},
   "source": [
    "### nothing seems to display chargetime"
   ]
  },
  {
   "cell_type": "code",
   "execution_count": 11,
   "metadata": {},
   "outputs": [],
   "source": [
    "def padaptor_var3(padaptor,psystem,ichargermax):\n",
    "    data=bc.batterystate_vs_t(bc.Charger(bc.Adapter(power=padaptor),bc.Battery(soc=soc),psystem=psystem, imax=ichargermax))\n",
    "    #chargetime = str(data[0][-1])\n",
    "    #print(f\"Chargetime: {chargetime} hrs\")\n",
    "    #chargetime = widgets.Text(\"Chargetime: \"+str(data[0][-1])+\" hrs\")\n",
    "    df=pd.DataFrame(np.array(data[1:]).T,index=data[0],columns=['soc','pout','vbat','vsys','iout','icharge'])\n",
    "    df.index.name='time(hr)'\n",
    "    df.plot(subplots=True, layout=(3,2),figsize=(10,10),sharex=False,use_index=True)\n",
    "    #print(f\"Chargetime: {chargetime} hrs\")\n",
    "    #plt.show()\n",
    "    #display(df.plot(subplots=True, layout=(3,2),figsize=(10,10),sharex=False,use_index=True)); \n",
    "    #display(chargetime)\n",
    "    #display()\n",
    "    #return chargetime #print(f\"Chargetime: {chargetime} hrs\")\n",
    "    #return print(f\"Chargetime: {chargetime} hrs\"), df.plot(subplots=True, layout=(3,2),figsize=(10,10),sharex=False,use_index=True)\n",
    "    #return chargetime, df.plot(subplots=True, layout=(3,2),figsize=(10,10),sharex=False,use_index=True)\n"
   ]
  },
  {
   "cell_type": "code",
   "execution_count": 12,
   "metadata": {},
   "outputs": [
    {
     "data": {
      "application/vnd.jupyter.widget-view+json": {
       "model_id": "401c2dba71b240aeafb1e753f31c1499",
       "version_major": 2,
       "version_minor": 0
      },
      "text/plain": [
       "interactive(children=(Dropdown(description='padaptor', options=(45, 60, 90), value=45), IntSlider(value=30, de…"
      ]
     },
     "metadata": {},
     "output_type": "display_data"
    }
   ],
   "source": [
    "interactive_plot = interactive(padaptor_var2,padaptor=[45,60,90],psystem=(0,60,5),ichargermax=(6, 9, 0.5))\n",
    "output = interactive_plot.children[-1]\n",
    "output.layout.height = '600px'\n",
    "#interactive_plot.children[1].continuous_update=False\n",
    "interactive_plot"
   ]
  },
  {
   "cell_type": "code",
   "execution_count": null,
   "metadata": {},
   "outputs": [],
   "source": [
    "interactive_plot.children"
   ]
  },
  {
   "cell_type": "markdown",
   "metadata": {},
   "source": [
    "## Interact as a Decorator"
   ]
  },
  {
   "cell_type": "code",
   "execution_count": null,
   "metadata": {
    "scrolled": false
   },
   "outputs": [],
   "source": [
    "#frame3.loc[frame3.index > 0.20]\n",
    "@interact\n",
    "def padaptor_var(padaptor=[45,60,90],psystem=(0,60,5),ichargermax=(6, 9, 0.5)):\n",
    "    data=bc.batterystate_vs_t(bc.Charger(bc.Adapter(power=padaptor),bc.Battery(soc=soc),psystem=psystem, imax=ichargermax))\n",
    "    #chargetime = widgets.Text(str(data[0][-1])+\"hrs\")\n",
    "    chargetime = str(data[0][-1])\n",
    "    df=pd.DataFrame(np.array(data[1:]).T,index=data[0],columns=['soc','pout','vbat','vsys','iout','icharge'])\n",
    "    df.index.name='time(hr)'\n",
    "    #return print(f\"Chargetime: {chargetime} hrs\"), df.plot(subplots=True, layout=(3,2),figsize=(10,10),sharex=False,use_index=True)\n",
    "    return df.plot(subplots=True, layout=(3,2),figsize=(10,10),sharex=False,use_index=True)\n",
    "\n"
   ]
  },
  {
   "cell_type": "code",
   "execution_count": null,
   "metadata": {},
   "outputs": [],
   "source": []
  },
  {
   "cell_type": "code",
   "execution_count": null,
   "metadata": {},
   "outputs": [],
   "source": []
  }
 ],
 "metadata": {
  "kernelspec": {
   "display_name": "Python 3",
   "language": "python",
   "name": "python3"
  },
  "language_info": {
   "codemirror_mode": {
    "name": "ipython",
    "version": 3
   },
   "file_extension": ".py",
   "mimetype": "text/x-python",
   "name": "python",
   "nbconvert_exporter": "python",
   "pygments_lexer": "ipython3",
   "version": "3.7.2"
  }
 },
 "nbformat": 4,
 "nbformat_minor": 2
}
