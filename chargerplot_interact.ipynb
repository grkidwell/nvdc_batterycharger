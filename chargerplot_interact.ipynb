{
 "cells": [
  {
   "cell_type": "markdown",
   "metadata": {},
   "source": [
    "# Battery Charge Time\n",
    "## NVDC Notebook Architecture\n",
    "#### For the duration of the charging period, the instantaneous battery current will depend on the state of the whole system, which consists of:\n",
    "\n",
    "\n",
    "*   Adaptor power rating - minus efficiency losses in the charger power train.\n",
    "*   Charger max current - a new control loop which will protect the charger and inductor. \n",
    "*   System load - adds to charger load and can reduce available charging current. If Psys > Padaptor, then Ibattery will be < 0\n",
    "*   Battery voltage - directly impacts System Voltage in the NVDC architecture. Also, for LiPO batteries, Vbat is current dependent. \n",
    "*   Battery current - raises System Voltage through the voltage drop across battery charge path resistence"
   ]
  },
  {
   "cell_type": "code",
   "execution_count": 11,
   "metadata": {},
   "outputs": [],
   "source": [
    "import batterycharger as bc\n",
    "import numpy as np\n",
    "import pandas as pd\n",
    "import matplotlib.pyplot as plt\n",
    "import seaborn as sns\n",
    "from ipywidgets import interact\n",
    "plt.style.use('seaborn')\n",
    "from IPython.display import Image\n",
    "\n",
    "\n"
   ]
  },
  {
   "cell_type": "code",
   "execution_count": 12,
   "metadata": {},
   "outputs": [
    {
     "data": {
      "image/png": "[encoded data removed]",
      "text/plain": [
       "<IPython.core.display.Image object>"
      ]
     },
     "execution_count": 12,
     "metadata": {
      "image/png": {
       "width": 800
      }
     },
     "output_type": "execute_result"
    }
   ],
   "source": [
    "Image('charger.png', width=800)"
   ]
  },
  {
   "cell_type": "markdown",
   "metadata": {},
   "source": [
    "### Initial State of Charge"
   ]
  },
  {
   "cell_type": "code",
   "execution_count": 7,
   "metadata": {},
   "outputs": [],
   "source": [
    "soc=0.1"
   ]
  },
  {
   "cell_type": "markdown",
   "metadata": {},
   "source": [
    "### Inputs and Results"
   ]
  },
  {
   "cell_type": "code",
   "execution_count": 8,
   "metadata": {},
   "outputs": [
    {
     "data": {
      "application/vnd.jupyter.widget-view+json": {
       "model_id": "00d340c707ba4b6993e3c54056b63bfa",
       "version_major": 2,
       "version_minor": 0
      },
      "text/plain": [
       "interactive(children=(Dropdown(description='padaptor', options=(45, 60, 90), value=45), IntSlider(value=30, de…"
      ]
     },
     "metadata": {},
     "output_type": "display_data"
    }
   ],
   "source": [
    "def nvdc_system(padaptor,psystem,ichargermax):\n",
    "    data=bc.batterystate_vs_t(bc.Charger(bc.Adapter(power=padaptor),bc.Battery(soc=soc),psystem=psystem, imax=ichargermax))\n",
    "    chargetime = str(data[0][-1])+'hrs'\n",
    "    df=pd.DataFrame(np.array(data[1:]).T,index=data[0],columns=['SOC  Chargetime: '+chargetime,'pout','vbat','vsys','iout','icharge'])\n",
    "    df.index.name='time(hr)'\n",
    "    df.plot(subplots=True, layout=(3,2),figsize=(10,10),sharex=False,use_index=True)\n",
    "\n",
    "interact(nvdc_system,padaptor=[45,60,90],psystem=(0,60,5),ichargermax=(6, 9, 0.5));\n"
   ]
  },
  {
   "cell_type": "code",
   "execution_count": 5,
   "metadata": {},
   "outputs": [
    {
     "data": {
      "text/plain": [
       "10.019999999999989"
      ]
     },
     "execution_count": 5,
     "metadata": {},
     "output_type": "execute_result"
    }
   ],
   "source": [
    "(2.3-2.133)*60"
   ]
  },
  {
   "cell_type": "code",
   "execution_count": 6,
   "metadata": {},
   "outputs": [
    {
     "data": {
      "text/plain": [
       "1.7777777777777777"
      ]
     },
     "execution_count": 6,
     "metadata": {},
     "output_type": "execute_result"
    }
   ],
   "source": [
    "(8/6)**2"
   ]
  },
  {
   "cell_type": "code",
   "execution_count": 9,
   "metadata": {},
   "outputs": [
    {
     "data": {
      "text/plain": [
       "7.98"
      ]
     },
     "execution_count": 9,
     "metadata": {},
     "output_type": "execute_result"
    }
   ],
   "source": [
    "(2.15-2.017)*60"
   ]
  },
  {
   "cell_type": "code",
   "execution_count": 10,
   "metadata": {},
   "outputs": [
    {
     "data": {
      "text/plain": [
       "1.3611111111111114"
      ]
     },
     "execution_count": 10,
     "metadata": {},
     "output_type": "execute_result"
    }
   ],
   "source": [
    "(7/6)**2"
   ]
  },
  {
   "cell_type": "code",
   "execution_count": null,
   "metadata": {},
   "outputs": [],
   "source": []
  }
 ],
 "metadata": {
  "kernelspec": {
   "display_name": "Python 3",
   "language": "python",
   "name": "python3"
  },
  "language_info": {
   "codemirror_mode": {
    "name": "ipython",
    "version": 3
   },
   "file_extension": ".py",
   "mimetype": "text/x-python",
   "name": "python",
   "nbconvert_exporter": "python",
   "pygments_lexer": "ipython3",
   "version": "3.7.2"
  }
 },
 "nbformat": 4,
 "nbformat_minor": 2
}
