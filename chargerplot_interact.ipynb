{
 "cells": [
  {
   "cell_type": "markdown",
   "metadata": {},
   "source": [
    "# Battery Charge Time\n",
    "## NVDC Notebook Architecture\n",
    "### Battery charge current is dependent on multiple factors, including Adaptor power, system load, battery state of charge, and the charger's maximum allowable output current."
   ]
  },
  {
   "cell_type": "code",
   "execution_count": 1,
   "metadata": {},
   "outputs": [],
   "source": [
    "import batterycharger as bc\n",
    "import numpy as np\n",
    "import pandas as pd\n",
    "import matplotlib.pyplot as plt\n",
    "import seaborn as sns\n",
    "from ipywidgets import interact\n",
    "plt.style.use('seaborn')\n",
    "\n",
    "\n"
   ]
  },
  {
   "cell_type": "markdown",
   "metadata": {},
   "source": [
    "### Initial State of Charge"
   ]
  },
  {
   "cell_type": "code",
   "execution_count": 4,
   "metadata": {},
   "outputs": [],
   "source": [
    "soc=0.01"
   ]
  },
  {
   "cell_type": "markdown",
   "metadata": {},
   "source": [
    "### Inputs and Results"
   ]
  },
  {
   "cell_type": "code",
   "execution_count": 6,
   "metadata": {},
   "outputs": [
    {
     "data": {
      "application/vnd.jupyter.widget-view+json": {
       "model_id": "6e76ba4b4331430d9fd23b17cfb8d3e7",
       "version_major": 2,
       "version_minor": 0
      },
      "text/plain": [
       "interactive(children=(Dropdown(description='padaptor', options=(45, 60, 90), value=45), IntSlider(value=30, de…"
      ]
     },
     "metadata": {},
     "output_type": "display_data"
    }
   ],
   "source": [
    "def nvdc_system(padaptor,psystem,ichargermax):\n",
    "    data=bc.batterystate_vs_t(bc.Charger(bc.Adapter(power=padaptor),bc.Battery(soc=soc),psystem=psystem, imax=ichargermax))\n",
    "    chargetime = str(data[0][-1])+'hrs'\n",
    "    df=pd.DataFrame(np.array(data[1:]).T,index=data[0],columns=['SOC  Chargetime: '+chargetime,'pout','vbat','vsys','iout','icharge'])\n",
    "    df.index.name='time(hr)'\n",
    "    df.plot(subplots=True, layout=(3,2),figsize=(10,10),sharex=False,use_index=True)\n",
    "\n",
    "interact(nvdc_system,padaptor=[45,60,90],psystem=(0,60,5),ichargermax=(6, 9, 0.5));"
   ]
  },
  {
   "cell_type": "code",
   "execution_count": null,
   "metadata": {},
   "outputs": [],
   "source": []
  }
 ],
 "metadata": {
  "kernelspec": {
   "display_name": "Python 3",
   "language": "python",
   "name": "python3"
  },
  "language_info": {
   "codemirror_mode": {
    "name": "ipython",
    "version": 3
   },
   "file_extension": ".py",
   "mimetype": "text/x-python",
   "name": "python",
   "nbconvert_exporter": "python",
   "pygments_lexer": "ipython3",
   "version": "3.7.2"
  }
 },
 "nbformat": 4,
 "nbformat_minor": 2
}
