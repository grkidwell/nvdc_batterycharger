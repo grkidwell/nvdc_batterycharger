{
  "nbformat": 4,
  "nbformat_minor": 0,
  "metadata": {
    "colab": {
      "name": "max_charge_current.ipynb",
      "version": "0.3.2",
      "provenance": [],
      "collapsed_sections": [],
      "toc_visible": true,
      "include_colab_link": true
    },
    "kernelspec": {
      "name": "python3",
      "display_name": "Python 3"
    }
  },
  "cells": [
    {
      "cell_type": "markdown",
      "metadata": {
        "id": "view-in-github",
        "colab_type": "text"
      },
      "source": [
        "<a href=\"https://colab.research.google.com/github/grkidwell/max_charge_current/blob/master/max_charge_current.ipynb\" target=\"_parent\"><img src=\"https://colab.research.google.com/assets/colab-badge.svg\" alt=\"Open In Colab\"/></a>"
      ]
    },
    {
      "cell_type": "markdown",
      "metadata": {
        "id": "vPPiYdO-Ihec",
        "colab_type": "text"
      },
      "source": [
        "#Battery Charger Design Optimization"
      ]
    },
    {
      "cell_type": "markdown",
      "metadata": {
        "id": "BRdMxfaOIp0h",
        "colab_type": "text"
      },
      "source": [
        "###Libraries"
      ]
    },
    {
      "cell_type": "code",
      "metadata": {
        "id": "9K23sCCJOMSa",
        "colab_type": "code",
        "colab": {}
      },
      "source": [
        "import numpy as np\n",
        "import pandas as pd\n",
        "import matplotlib.pyplot as plt\n",
        "from IPython.display import Image\n",
        "\n",
        "plt.style.use('seaborn')"
      ],
      "execution_count": 0,
      "outputs": []
    },
    {
      "cell_type": "code",
      "metadata": {
        "id": "UXtHq6YhWi1R",
        "colab_type": "code",
        "outputId": "263de662-5343-4d2c-fc30-7c25fd268071",
        "colab": {
          "base_uri": "https://localhost:8080/",
          "height": 0
        }
      },
      "source": [
        "!git clone https://github.com/grkidwell/max_charge_current.git"
      ],
      "execution_count": 2,
      "outputs": [
        {
          "output_type": "stream",
          "text": [
            "fatal: destination path 'max_charge_current' already exists and is not an empty directory.\n"
          ],
          "name": "stdout"
        }
      ]
    },
    {
      "cell_type": "markdown",
      "metadata": {
        "id": "FvWaWYdKqO6y",
        "colab_type": "text"
      },
      "source": [
        "###Functions and Classes"
      ]
    },
    {
      "cell_type": "code",
      "metadata": {
        "id": "BOvkyX_eql13",
        "colab_type": "code",
        "colab": {}
      },
      "source": [
        "class Battery:\n",
        "  \n",
        "  def __init__(self,nstack=2,J=50, soc=1):\n",
        "    \n",
        "    self.nstack=nstack    # 2S, 3S, 4S\n",
        "    self.capacity=J       # Watt*hrs\n",
        "    self.soc=soc          # state of charge.  0.01 to 1  (1% to 100%)\n",
        "    \n",
        "    self.vcellmin=3.0\n",
        "    self.vcellnom=3.7\n",
        "    self.vcellmax=4.2\n",
        "    \n",
        "    self.res=0.2  # Rbattery.  Path resistance, in Ohms, between the battery and charger output. Includes cell chemistry + busbar+connectors+cable+beads+pcb+BFET\n",
        "    \n",
        "    self.vmin=self.nstack*self.vcellmin\n",
        "    self.vnom=self.nstack*self.vcellnom\n",
        "    self.vmax=self.nstack*self.vcellmax\n",
        "    \n",
        "    self.crate=self.capacity/self.vnom\n",
        "    \n",
        "  #def voltage(self):\n",
        "    state=self.soc   \n",
        "    k=[3.49,1.429,6.101e-3,2.502]   #coefficients from Mathcad curve fit.\n",
        "    vcell=k[0]+k[1]*np.exp(-k[3]*(1-state))-k[2]/(state+.001)\n",
        "    \n",
        "    self.voltage=max(self.vmin,min(self.vmax, self.nstack*vcell))  #battery voltage has upper and lower clamp\n",
        "    \n",
        " \n",
        "class Adaptor:\n",
        "  \n",
        "  def __init__(self, power=60, voltage=20):\n",
        "  \n",
        "    Aclim_tol  = 0.05\n",
        "    \n",
        "    \n",
        "    self.power=power*(1-Aclim_tol)\n",
        "    self.voltage=voltage\n",
        "    \n",
        "    self.ilim=self.power*(1-Aclim_tol)/voltage\n",
        "\n",
        "    \n",
        "    \n",
        "    \n",
        "class Charger:\n",
        "  \n",
        "  def __init__(self, adaptor, battery, psystem=0, imax=8.5):  #adaptor and battery are objects\n",
        "  \n",
        "      Efficiency = 0.95\n",
        "      self.pmax=adaptor.power*Efficiency\n",
        "      self.imax=imax\n",
        "      self.vsys_mmp=self.pmax/imax   #vsys at max rated output current of charger.  digital vcore controller will monitor\n",
        "      self.psys=psystem\n",
        "    \n",
        "      self.rbat=battery.res\n",
        "      self.vsysmax=battery.vmax\n",
        "      self.vsysmin=battery.vmin     \n",
        "      self.vbat=battery.voltage\n",
        "    \n",
        "      \n",
        "      self.ichargemax=0.8*battery.crate       #charging current limited by battery and charger setting\n",
        "      \n",
        "      self.VRhot = False\n",
        "      \n",
        "      # to do: might try setting these up as loops/states\n",
        "      # to do: set up battery discharge state\n",
        "      \n",
        "      if self.psys > self.pmax:     #adaptor loop in control\n",
        "        self.psys = self.pmax\n",
        "        self.VRhot = True\n",
        "        \n",
        "      '''\n",
        "      (1) Derive quadratic equation for Vsys at max output power\n",
        "\n",
        "      Vsys = Vbat + icharge*Rbat\n",
        "           = Vbat + (iout-isys)*Rbat\n",
        "           = Vbat + (Pmax/Vsys - Psys/Vsys)*Rbat\n",
        "           = Vbat + (Pmax-Psys)/Vsys*Rbat\n",
        "           \n",
        "      Vsys^2 - Vbat*Vsys - (Pmax-Psys)Rbat = 0\n",
        "      \n",
        "      (2) Derive quadratic equation for Vsys at max output current\n",
        "      \n",
        "      Vsys = Vbat + icharge*Rbat\n",
        "           = Vbat + (imax- Psys/Vsys)*Rbat\n",
        "           = Vbat + imax*Rbat - Psys*Rbat/Vsys\n",
        "           \n",
        "      Vsys^2 - (Vbat+imax*Rbat)Vsys + Psys*Rbat = 0\n",
        "\n",
        "      '''   \n",
        "\n",
        "      quadcoeff1 = [1, -self.vbat, -(self.pmax-self.psys)*self.rbat]\n",
        "      quadcoeff2 = [1, -(self.vbat+self.imax*self.rbat), self.psys*self.rbat]\n",
        "      \n",
        "      vsys1 = max(np.roots(quadcoeff1))\n",
        "      vsys2 = max(np.roots(quadcoeff2))\n",
        "      \n",
        "      if vsys1 > self.vsys_mmp:    #assume max adaptor power until either vsys or icharge is clamped\n",
        "        vsys_a = vsys1\n",
        "        \n",
        "      else:                # vcore to throttle when vsys drops below level which would result in excessive charger current\n",
        "        vsys_a = vsys2\n",
        "        self.VRhot = True\n",
        "        \n",
        "      vsys_a = min(self.vsysmax, vsys_a)    #voltage loop in control\n",
        "        \n",
        "      icharge_a = (vsys_a - self.vbat)/self.rbat\n",
        "        \n",
        "      self.icharge = min(self.imax,self.ichargemax,icharge_a)\n",
        "      self.vsys = self.vbat + self.icharge*self.rbat\n",
        "      \n",
        "      self.pout = self.vsys*self.icharge + self.psys\n",
        "      self.iout = self.pout/self.vsys\n",
        " \n",
        "     \n",
        "  \n",
        "\n",
        "    "
      ],
      "execution_count": 0,
      "outputs": []
    },
    {
      "cell_type": "code",
      "metadata": {
        "id": "jB-1PCnzBNQC",
        "colab_type": "code",
        "colab": {
          "base_uri": "https://localhost:8080/",
          "height": 34
        },
        "outputId": "0e9f2f0a-71c4-4ea2-9641-69e1305c230a"
      },
      "source": [
        "7.2*8.5"
      ],
      "execution_count": 4,
      "outputs": [
        {
          "output_type": "execute_result",
          "data": {
            "text/plain": [
              "61.2"
            ]
          },
          "metadata": {
            "tags": []
          },
          "execution_count": 4
        }
      ]
    },
    {
      "cell_type": "markdown",
      "metadata": {
        "colab_type": "text",
        "id": "PG7tLzNJRMBl"
      },
      "source": [
        "###Description\n"
      ]
    },
    {
      "cell_type": "markdown",
      "metadata": {
        "colab_type": "text",
        "id": "QmiXNl-vRMBp"
      },
      "source": [
        "> The purpose of this model \n",
        "\n",
        ">Battery charger size can be reduced by clamping the maximum output current.   \n",
        "> The adaptor's full power can only be utilized when the battery voltage has reached Vbattmin  \n",
        "> Full adaptor power is acheived when the system voltage is high enough so that\n"
      ]
    },
    {
      "cell_type": "markdown",
      "metadata": {
        "colab_type": "text",
        "id": "p5yfuSw1iYOQ"
      },
      "source": [
        "> We know that for a given adaptor power, the maximum charging current will be inversely proportional to the minimum system voltage,   \n",
        ">>>$Icharge_{max}={Padaptor\\over Vsystem_{min}}$ &emsp; &emsp; &emsp; (1)\n"
      ]
    },
    {
      "cell_type": "code",
      "metadata": {
        "id": "q_Xh87CQXGC0",
        "colab_type": "code",
        "colab": {}
      },
      "source": [
        "adaptor60=Adaptor(60,20)\n",
        "\n",
        "battery2S_depleted=Battery(2,50,soc=.01)\n",
        "battery2S_halfcharge=Battery(2,50,soc=0.5)\n",
        "battery2S_full=Battery(2,50,soc=1)\n",
        "\n",
        "battery2S=[battery2S_depleted,\n",
        "           battery2S_halfcharge,\n",
        "           battery2S_full]"
      ],
      "execution_count": 0,
      "outputs": []
    },
    {
      "cell_type": "code",
      "metadata": {
        "id": "xAq7eXp3-NPR",
        "colab_type": "code",
        "colab": {
          "base_uri": "https://localhost:8080/",
          "height": 34
        },
        "outputId": "313419d4-0723-4c76-b3ac-e5341b34fb50"
      },
      "source": [
        "Battery(2,50,soc=.005).voltage"
      ],
      "execution_count": 6,
      "outputs": [
        {
          "output_type": "execute_result",
          "data": {
            "text/plain": [
              "6.0"
            ]
          },
          "metadata": {
            "tags": []
          },
          "execution_count": 6
        }
      ]
    },
    {
      "cell_type": "code",
      "metadata": {
        "id": "77dDcQBV7nHt",
        "colab_type": "code",
        "colab": {
          "base_uri": "https://localhost:8080/",
          "height": 379
        },
        "outputId": "7fcab13c-c14c-40ba-ee9e-a6546e057153"
      },
      "source": [
        "socvar = np.arange(.01,1.01,.01)\n",
        "batlist = []\n",
        "for i in socvar:\n",
        "  batlist.append(Battery(2,50,soc=i).voltage) \n",
        "plt.plot(socvar,batlist,color='r')\n",
        "plt.xlabel(\"SOC\")\n",
        "plt.ylabel(\"Battery voltage(V)\")\n",
        "plt.title(\"Battery Voltage vs. State of Charge\" , fontsize=16)\n",
        "plt.show()"
      ],
      "execution_count": 7,
      "outputs": [
        {
          "output_type": "display_data",
          "data": {
            "image/png": "[encoded data removed]",
            "text/plain": [
              "<Figure size 576x396 with 1 Axes>"
            ]
          },
          "metadata": {
            "tags": []
          }
        }
      ]
    },
    {
      "cell_type": "code",
      "metadata": {
        "id": "2xK1TBun4sg3",
        "colab_type": "code",
        "outputId": "0aa70412-89a4-4e67-ec0d-cf7e31906b73",
        "colab": {
          "base_uri": "https://localhost:8080/",
          "height": 379
        }
      },
      "source": [
        "\n",
        "soclist = [0.01, 0.5, 1.0]\n",
        "syspwr = np.arange(0,60,10)\n",
        "chargercurrent = []\n",
        "for p in syspwr:\n",
        "  chargercurrent.append(Charger(Adaptor(90,20),Battery(2,50,soc=0.01),psystem=p, imax=8.5).iout) \n",
        "plt.plot(syspwr,chargercurrent,color='r')\n",
        "plt.xlabel(\"System Power(Watts)\")\n",
        "plt.ylabel(\"Output Current(Amps)\")\n",
        "plt.title(\"NVDC Charger Current vs. System Power Level\" , fontsize=16)\n",
        "plt.show()\n",
        "\n",
        "\n"
      ],
      "execution_count": 8,
      "outputs": [
        {
          "output_type": "display_data",
          "data": {
            "image/png": "[encoded data removed]",
            "text/plain": [
              "<Figure size 576x396 with 1 Axes>"
            ]
          },
          "metadata": {
            "tags": []
          }
        }
      ]
    },
    {
      "cell_type": "code",
      "metadata": {
        "id": "h0-vt5oKoutf",
        "colab_type": "code",
        "colab": {
          "base_uri": "https://localhost:8080/",
          "height": 379
        },
        "outputId": "00701017-f940-4c51-c384-dcf1ed64699b"
      },
      "source": [
        "\n",
        "soclist = [0.01, 0.5, 1.0]\n",
        "syspwr = np.arange(0,60,10)\n",
        "\n",
        "for s in soclist:\n",
        "  chargercurrent = []\n",
        "  for p in syspwr:\n",
        "    chargercurrent.append(Charger(Adaptor(60,20),Battery(2,50,soc=s),psystem=p, imax=8.5).iout) \n",
        "  plt.plot(syspwr,chargercurrent,label=\"SOC=%3.2f\" % (s))\n",
        "plt.xlabel(\"System Power(Watts)\")\n",
        "plt.ylabel(\"Output Current(Amps)\")\n",
        "plt.title(\"NVDC Charger Current vs. System Power Level\" , fontsize=16)\n",
        "plt.legend(ncol=1, loc='lower right')\n",
        "plt.show()"
      ],
      "execution_count": 9,
      "outputs": [
        {
          "output_type": "display_data",
          "data": {
            "image/png": "[encoded data removed]",
            "text/plain": [
              "<Figure size 576x396 with 1 Axes>"
            ]
          },
          "metadata": {
            "tags": []
          }
        }
      ]
    },
    {
      "cell_type": "code",
      "metadata": {
        "id": "dWHkuGVhvsVq",
        "colab_type": "code",
        "colab": {}
      },
      "source": [
        ""
      ],
      "execution_count": 0,
      "outputs": []
    },
    {
      "cell_type": "code",
      "metadata": {
        "id": "s5o-tpeZie4I",
        "colab_type": "code",
        "outputId": "421b6c75-d3af-421b-e7c6-1894e01bbcf4",
        "colab": {
          "base_uri": "https://localhost:8080/",
          "height": 232
        }
      },
      "source": [
        "xvar=np.arange(battery2S.vmin//1,(battery2S.vmax+1.5)//1,1)\n",
        "yvar=Padaptor/xvar\n",
        "plt.plot(xvar,yvar)\n",
        "plt.xlim(left=np.min(xvar), right=np.max(xvar))\n",
        "#plt.ylim(bottom=0,top=12)\n",
        "plt.ylabel(\"charging current(A)\")\n",
        "plt.xlabel(\"system voltage(V)\")\n",
        "plt.title(\"Charge Current vs. System Voltage at %2.0fW Adaptor Power\" % (Padaptor), fontsize=16)\n",
        "#plt.legend(ncol=2, loc='lower left')\n",
        "plt.show()"
      ],
      "execution_count": 10,
      "outputs": [
        {
          "output_type": "error",
          "ename": "AttributeError",
          "evalue": "ignored",
          "traceback": [
            "\u001b[0;31m---------------------------------------------------------------------------\u001b[0m",
            "\u001b[0;31mAttributeError\u001b[0m                            Traceback (most recent call last)",
            "\u001b[0;32m<ipython-input-10-6357c489d285>\u001b[0m in \u001b[0;36m<module>\u001b[0;34m()\u001b[0m\n\u001b[0;32m----> 1\u001b[0;31m \u001b[0mxvar\u001b[0m\u001b[0;34m=\u001b[0m\u001b[0mnp\u001b[0m\u001b[0;34m.\u001b[0m\u001b[0marange\u001b[0m\u001b[0;34m(\u001b[0m\u001b[0mbattery2S\u001b[0m\u001b[0;34m.\u001b[0m\u001b[0mvmin\u001b[0m\u001b[0;34m//\u001b[0m\u001b[0;36m1\u001b[0m\u001b[0;34m,\u001b[0m\u001b[0;34m(\u001b[0m\u001b[0mbattery2S\u001b[0m\u001b[0;34m.\u001b[0m\u001b[0mvmax\u001b[0m\u001b[0;34m+\u001b[0m\u001b[0;36m1.5\u001b[0m\u001b[0;34m)\u001b[0m\u001b[0;34m//\u001b[0m\u001b[0;36m1\u001b[0m\u001b[0;34m,\u001b[0m\u001b[0;36m1\u001b[0m\u001b[0;34m)\u001b[0m\u001b[0;34m\u001b[0m\u001b[0;34m\u001b[0m\u001b[0m\n\u001b[0m\u001b[1;32m      2\u001b[0m \u001b[0myvar\u001b[0m\u001b[0;34m=\u001b[0m\u001b[0mPadaptor\u001b[0m\u001b[0;34m/\u001b[0m\u001b[0mxvar\u001b[0m\u001b[0;34m\u001b[0m\u001b[0;34m\u001b[0m\u001b[0m\n\u001b[1;32m      3\u001b[0m \u001b[0mplt\u001b[0m\u001b[0;34m.\u001b[0m\u001b[0mplot\u001b[0m\u001b[0;34m(\u001b[0m\u001b[0mxvar\u001b[0m\u001b[0;34m,\u001b[0m\u001b[0myvar\u001b[0m\u001b[0;34m)\u001b[0m\u001b[0;34m\u001b[0m\u001b[0;34m\u001b[0m\u001b[0m\n\u001b[1;32m      4\u001b[0m \u001b[0mplt\u001b[0m\u001b[0;34m.\u001b[0m\u001b[0mxlim\u001b[0m\u001b[0;34m(\u001b[0m\u001b[0mleft\u001b[0m\u001b[0;34m=\u001b[0m\u001b[0mnp\u001b[0m\u001b[0;34m.\u001b[0m\u001b[0mmin\u001b[0m\u001b[0;34m(\u001b[0m\u001b[0mxvar\u001b[0m\u001b[0;34m)\u001b[0m\u001b[0;34m,\u001b[0m \u001b[0mright\u001b[0m\u001b[0;34m=\u001b[0m\u001b[0mnp\u001b[0m\u001b[0;34m.\u001b[0m\u001b[0mmax\u001b[0m\u001b[0;34m(\u001b[0m\u001b[0mxvar\u001b[0m\u001b[0;34m)\u001b[0m\u001b[0;34m)\u001b[0m\u001b[0;34m\u001b[0m\u001b[0;34m\u001b[0m\u001b[0m\n\u001b[1;32m      5\u001b[0m \u001b[0;31m#plt.ylim(bottom=0,top=12)\u001b[0m\u001b[0;34m\u001b[0m\u001b[0;34m\u001b[0m\u001b[0;34m\u001b[0m\u001b[0m\n",
            "\u001b[0;31mAttributeError\u001b[0m: 'list' object has no attribute 'vmin'"
          ]
        }
      ]
    },
    {
      "cell_type": "code",
      "metadata": {
        "id": "Ny8MW83EXDCt",
        "colab_type": "code",
        "colab": {}
      },
      "source": [
        ""
      ],
      "execution_count": 0,
      "outputs": []
    },
    {
      "cell_type": "code",
      "metadata": {
        "id": "o2lSiOBVjvw_",
        "colab_type": "code",
        "colab": {}
      },
      "source": [
        "np.min(xvar)"
      ],
      "execution_count": 0,
      "outputs": []
    },
    {
      "cell_type": "markdown",
      "metadata": {
        "id": "HGzCU_-mh0eB",
        "colab_type": "text"
      },
      "source": [
        "> When the NB is off, all of the adaptor power is directed toward charging the battery and charger current is limited by the EC\n",
        "\n",
        "> When the NB is on, the EC may need to throttle the system to keep the charger current within design specs.   \n"
      ]
    },
    {
      "cell_type": "code",
      "metadata": {
        "colab_type": "code",
        "cellView": "both",
        "id": "n4ILMQmjRsXd",
        "colab": {}
      },
      "source": [
        "#@title\n",
        "Image('max_charge_current/circuit_diagram.png', height=400,width=600)"
      ],
      "execution_count": 0,
      "outputs": []
    },
    {
      "cell_type": "markdown",
      "metadata": {
        "colab_type": "text",
        "id": "sp2sekw9RMBt"
      },
      "source": [
        "> We know that for a given power adaptor, the maximum charge current will be inversely proportional to the minimum system voltage,   \n",
        ">>>$Icharge_{max}={Padaptor\\over Vsystem_{min}}$ &emsp; &emsp; &emsp; (1)\n"
      ]
    },
    {
      "cell_type": "markdown",
      "metadata": {
        "id": "RPmcYES_Y9Ut",
        "colab_type": "text"
      },
      "source": [
        "\n",
        "###When charging a battery during constant current mode, the resistance between the charger output and the battery  \n",
        "###elevates the output voltage of charger above the battery voltage by a voltage proportional to the charge current\n",
        "$(1) Vsystem = Icharge*Rbattery + Vbattery$\n",
        "###Also, for a given power level, the system voltage will be inversely proportional to the charge current, so as the current decreases\n",
        "###the charge output (or system) voltage will increase\n",
        "$(2) Vsystem = Padaptor/Icharge$"
      ]
    },
    {
      "cell_type": "code",
      "metadata": {
        "id": "OR34Vp33XFOD",
        "colab_type": "code",
        "cellView": "both",
        "colab": {}
      },
      "source": [
        ""
      ],
      "execution_count": 0,
      "outputs": []
    },
    {
      "cell_type": "markdown",
      "metadata": {
        "id": "ltQHpc68voQw",
        "colab_type": "text"
      },
      "source": [
        "###The intersection point of these 2 equations provides the solution of the  system voltage and charge current at maximum adaptor power"
      ]
    },
    {
      "cell_type": "markdown",
      "metadata": {
        "id": "lkdolk1EIywR",
        "colab_type": "text"
      },
      "source": [
        "###Parameters"
      ]
    },
    {
      "cell_type": "code",
      "metadata": {
        "id": "ZueoojpGJGPX",
        "colab_type": "code",
        "colab": {}
      },
      "source": [
        "#Rbattery   = 0.2    # Rpcb + Rcable + Rbattery\n",
        "#Padaptor   = 60     # Full adaptor power.   Will be derated by aclim tolerance and charger efficiency\n",
        "#Vbatmin    = 7.4   # mimimum battery voltage where full power can be extracted from the adaptor.  This will be set by the EC\n",
        "\n"
      ],
      "execution_count": 0,
      "outputs": []
    },
    {
      "cell_type": "code",
      "metadata": {
        "id": "IflaW7rvcJLM",
        "colab_type": "code",
        "colab": {}
      },
      "source": [
        ""
      ],
      "execution_count": 0,
      "outputs": []
    },
    {
      "cell_type": "markdown",
      "metadata": {
        "id": "sMYAhgFHJAJw",
        "colab_type": "text"
      },
      "source": [
        "###Results"
      ]
    },
    {
      "cell_type": "code",
      "metadata": {
        "id": "dDiFPbecInqu",
        "colab_type": "code",
        "cellView": "both",
        "colab": {}
      },
      "source": [
        "#@title\n",
        "#Padap_actual = Padaptor*Efficiency*(1-Aclim_tol)\n",
        "Imax = quadsolver(battery2S.res,battery2S.vmin,Padaptor)\n",
        "voutmin=Padaptor/Imax\n",
        "\n",
        "print(\"For %3.0fW Aadaptor, %1.0fS Battery\" % (Padaptor,battery2S.nstack))\n",
        "print(\"\")\n",
        "print(\"Max charge current = %3.1fA\" % (Imax))\n",
        "print(\"Charger output voltage = %3.1fV\" % (voutmin))\n",
        "print(\"Conduction loss = %3.1fW\" % (battery2S.res*Imax**2))\n"
      ],
      "execution_count": 0,
      "outputs": []
    },
    {
      "cell_type": "markdown",
      "metadata": {
        "id": "oq74coExFJnb",
        "colab_type": "text"
      },
      "source": [
        "### Graphs"
      ]
    },
    {
      "cell_type": "code",
      "metadata": {
        "id": "Kq8g2KRLTsL8",
        "colab_type": "code",
        "cellView": "both",
        "colab": {}
      },
      "source": [
        "#@title\n",
        "i=np.arange(2,10,1)\n",
        "vsys_2S=Vbatmin*2/3+i*Rbattery\n",
        "vsys_3S=Vbatmin+i*Rbattery\n",
        "vsys_4S=Vbatmin*4/3+i*Rbattery\n",
        "vsys_90=Padaptor/i*Efficiency*(1-Aclim_tol)\n",
        "vsys_65=65/i*Efficiency*(1-Aclim_tol)\n",
        "vsys_45=45/i*Efficiency*(1-Aclim_tol)\n",
        "\n",
        "plt.plot(i, vsys_2S, label=\"2S\")\n",
        "plt.plot(i, vsys_3S, label=\"3S\")\n",
        "plt.plot(i, vsys_4S, label=\"4S\")\n",
        "plt.plot(i, vsys_90, label=\"90W\", linestyle='dashed')\n",
        "plt.plot(i, vsys_65, label=\"65W\", linestyle='dashed')\n",
        "plt.plot(i, vsys_45, label=\"45W\", linestyle='dashed')\n",
        "plt.plot()\n",
        "\n",
        "plt.xlim(left=2, right=9)\n",
        "plt.ylim(bottom=2,top=20)\n",
        "\n",
        "plt.text(5,18,'(1) Vsystem = Rbattery x Icharge + Vbattery ')\n",
        "plt.text(5,4,'(2) Vsystem = Padaptor/Icharge ')\n",
        "\n",
        "plt.xlabel(\"charging current(A)\")\n",
        "plt.ylabel(\"system voltage(V)\")\n",
        "plt.title(\"System Voltage vs. Charge Current at Max Adaptor Power\", fontsize=16)\n",
        "plt.legend(ncol=2, loc='lower left')\n",
        "plt.show()"
      ],
      "execution_count": 0,
      "outputs": []
    },
    {
      "cell_type": "code",
      "metadata": {
        "id": "H67KbLOWakGi",
        "colab_type": "code",
        "colab": {}
      },
      "source": [
        ""
      ],
      "execution_count": 0,
      "outputs": []
    }
  ]
}